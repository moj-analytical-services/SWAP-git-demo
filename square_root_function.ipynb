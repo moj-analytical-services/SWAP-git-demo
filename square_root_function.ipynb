{
 "cells": [
  {
   "cell_type": "code",
   "execution_count": null,
   "id": "deaca60a-5446-4027-a6f8-59912fd9c4ad",
   "metadata": {},
   "outputs": [],
   "source": [
    "import numpy as np\n",
    "\n",
    "def get_sqrt_fn(number):\n",
    "    sqrt_no = np.sqrt(25)\n",
    "    \n",
    "    return(sqrt_no)"
   ]
  },
  {
   "cell_type": "code",
   "execution_count": null,
   "id": "98a32f12-feee-4cc9-8b0b-3e4b7b5c9a2b",
   "metadata": {},
   "outputs": [],
   "source": [
    "input_number = 100\n",
    "\n",
    "sqrt_number = get_sqrt_fn(input_number)\n",
    "\n",
    "print(\"The square root of \" + str(input_number) + \" is \" + str(sqrt_number))"
   ]
  }
 ],
 "metadata": {
  "kernelspec": {
   "display_name": "Python 3 (ipykernel)",
   "language": "python",
   "name": "python3"
  },
  "language_info": {
   "codemirror_mode": {
    "name": "ipython",
    "version": 3
   },
   "file_extension": ".py",
   "mimetype": "text/x-python",
   "name": "python",
   "nbconvert_exporter": "python",
   "pygments_lexer": "ipython3",
   "version": "3.9.6"
  }
 },
 "nbformat": 4,
 "nbformat_minor": 5
}
